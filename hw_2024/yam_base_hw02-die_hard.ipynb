{
 "cells": [
  {
   "cell_type": "markdown",
   "id": "gorgeous-position",
   "metadata": {},
   "source": [
    "<center>\n",
    "<img src=\"https://github.com/FUlyankin/yet_another_matstat_course/blob/main/hw_2024/images/AB.jpeg?raw=true\" height=\"200\"> \n",
    "\n",
    "# Прикладаная статистика: домашнее задание 2\n",
    "</center>\n",
    "\n",
    "> скрррааа па па ка ка ка скидики па па энд э пу пу дррр бум скьа ду ду ку ку тун тун пум пум\n",
    "\n",
    "$\\qquad$ [БутcРэп](https://www.youtube.com/watch?v=eE4qxB2E8d4)"
   ]
  },
  {
   "cell_type": "markdown",
   "id": "2c207864",
   "metadata": {},
   "source": [
    "**ФИО:**"
   ]
  },
  {
   "cell_type": "markdown",
   "id": "developmental-secondary",
   "metadata": {},
   "source": [
    "## Общая информация\n",
    "\n",
    "\n",
    "__Дата выдачи:__ 10.04.2024\n",
    "\n",
    "__Мягкий дедлайн:__ 23:59MSK 05.05.2024\n",
    "\n",
    "__Жесткий дедлайн:__ 23:59MSK 12.05.2024"
   ]
  },
  {
   "cell_type": "markdown",
   "id": "danish-magnet",
   "metadata": {},
   "source": [
    "## Оценивание и штрафы\n",
    "\n",
    "В этой домашней работе мы с вами отточим навыки проверки гипотез и стротельства доверительных интервалов. \n",
    "\n",
    "Каждая из задач имеет определенную «стоимость» (указана в скобках около задачи). Максимально допустимая оценка за работу — 120 баллов. Всё, что выше сотни -- бонусные баллы. \n",
    "\n",
    "Задание выполняется самостоятельно. «Похожие» решения считаются плагиатом и все задействованные студенты (в том числе те, у кого списали) не могут получить за него больше 0 баллов. Если вы нашли решение какого-то из заданий (или его часть) в открытом источнике, необходимо указать ссылку на этот источник (скорее всего вы будете не единственным, кто это нашел, поэтому чтобы исключить подозрение в плагиате, необходима ссылка на источник).\n",
    "\n",
    "> За отсутствие названий графиков и подписей к осям могут снижаться баллы. Все картинки должны быть самодостаточны и визуально удобны для восприятия, так чтобы не нужно было смотреть ваш код или знать задание, чтобы понять что на них изображено. \n",
    "\n",
    "> Выводы должны быть релевантными. Не забывайте их писать. Если в вопросе требуется ответ словами, а его нет, вы будете терять довольно много баллов.\n",
    "\n",
    "> Фиксируйте все seed'ы, random_state'ы и тд - ваш код должен быть воспроизводим с теми же результатами."
   ]
  },
  {
   "cell_type": "markdown",
   "id": "reported-builder",
   "metadata": {},
   "source": [
    "## Формат сдачи\n",
    "\n",
    "Сам ноутбук называйте в формате hw-01-USERNAME.ipynb, где USERNAME — ваши фамилия и имя. Файл надо будет, как обычно, сдать в anytask."
   ]
  },
  {
   "cell_type": "markdown",
   "id": "opening-nowhere",
   "metadata": {},
   "source": [
    "## Импорт необходимых библиотек \n",
    "\n",
    "Импортируйте все используемые библиотеки здесь."
   ]
  },
  {
   "cell_type": "code",
   "execution_count": null,
   "id": "addressed-african",
   "metadata": {},
   "outputs": [],
   "source": [
    "import pandas as pd \n",
    "import numpy as np\n",
    "import scipy.stats as sts\n",
    "\n",
    "import matplotlib.pyplot as plt\n",
    "import seaborn as sns\n",
    "\n",
    "from collections import defaultdict"
   ]
  },
  {
   "cell_type": "code",
   "execution_count": null,
   "id": "stylish-raise",
   "metadata": {},
   "outputs": [],
   "source": [
    "# Отключение некоторых лишних предупреждений\n",
    "import warnings\n",
    "warnings.filterwarnings(\"ignore\")"
   ]
  },
  {
   "cell_type": "code",
   "execution_count": null,
   "id": "musical-element",
   "metadata": {},
   "outputs": [],
   "source": [
    "sns.set_theme(style=\"whitegrid\", palette=\"muted\")\n",
    "plt.rcParams['figure.figsize'] = (8, 4)"
   ]
  },
  {
   "cell_type": "markdown",
   "id": "destroyed-joining",
   "metadata": {},
   "source": [
    "# Проверка гипотез"
   ]
  },
  {
   "cell_type": "markdown",
   "id": "aging-insulation",
   "metadata": {},
   "source": [
    "Для начала повторим теорию проверки гипотез и поотвечаем на различные вопросы. \n",
    "\n",
    "> Ниже вас ждут несколько примеров гипотез, на которые вам нужно получить статистически значимые ответы. Вы можете пользоваться встроенными функциями тестов, можете писать свои, а можете использовать с семинаров – это не влияет на полученные баллы. Вы также оставляете за собой право выбрать, проверять гипотезу через `p-value`, по критическим значениям или вообще по с помощью доверительных интервалов (но здесь будьте осторожнее, особенно, когда у вас 2 выборки). \n",
    "\n",
    "__Здесь важно:__\n",
    "\n",
    "- Правильно посчитать `p-value` либо наблюдаемое значение критерия (либо дов. интервал);\n",
    "- Правильно сделать вывод об отвержении / не отвержении нулевой гипотезы;\n",
    "- Правильно выбрать тест для проверки и обосновать, почему вы выбрали именно его.\n",
    "\n",
    "Гипотезы проверяйте на $5\\%$ уровне значимости"
   ]
  },
  {
   "cell_type": "markdown",
   "id": "prompt-demonstration",
   "metadata": {},
   "source": [
    "### Задача 1: экзамен (15 баллов)\n",
    "\n",
    "<center>\n",
    "<img src=\"https://github.com/FUlyankin/yet_another_matstat_course/blob/main/hw_2024/images/exam.jpeg?raw=true\" width=\"400\">\n",
    "</center>\n",
    "<br>\n",
    "\n",
    "- Справочный материал с кодом: [тетрадка 1](https://github.com/FUlyankin/matstat-AB/blob/main/week09_hypo/10_13_python_mouse_and_man.ipynb) и [тетрадка 2](https://github.com/FUlyankin/matstat-AB/blob/main/week09_hypo/14_python_dependent.ipynb)\n",
    "- [Серия из видео с его объяснением](https://www.youtube.com/watch?v=r1yD-vfli-g&list=PLCf-cQCe1FRxTgNPwcRSkBjvtE8DEm7rU&index=10)"
   ]
  },
  {
   "cell_type": "markdown",
   "id": "fitting-maryland",
   "metadata": {},
   "source": [
    "У вас есть набор данных об оценках студентов на экзамене. Каждая строка в датасете – отдельный студент. Датасет представляет собой следующие колонки:\n",
    "\n",
    "* `gender` – пол\n",
    "* `race/ethnicity` – раса / этническая принадлежность\n",
    "* `parental level of education` – уровень образования\n",
    "* `lunch` – получает ли бесплатные обеды (тип питания)\n",
    "* `test preparation course` – прошел ли курсы по подготовке к тесту\n",
    "* `math score` – баллы за математику\n",
    "* `reading score` – баллы за чтение\n",
    "* `writing score` – баллы за письменность"
   ]
  },
  {
   "cell_type": "code",
   "execution_count": null,
   "id": "selected-mounting",
   "metadata": {},
   "outputs": [],
   "source": [
    "df = pd.read_csv('data/students_exam.csv')\n",
    "print(df.shape)\n",
    "df.head()"
   ]
  },
  {
   "cell_type": "markdown",
   "id": "lightweight-astrology",
   "metadata": {},
   "source": [
    "__а)__ __[5 баллов]__  Проверьте гипотезу о том, что студенты, получившие высшее образование (associate's degree, bachelor's degree, master's degree) в среднем пишут математику на большее число баллов, чем студенты со средним образованием (high school, some high school, some college). \n",
    "\n",
    "Уровень значимости: $5\\%$\n",
    "\n",
    "$$\n",
    "\\begin{aligned}\n",
    "& H_0: \\mu_{high} = \\mu_{middle} \\\\\n",
    "& H_1: \\mu_{high} > \\mu_{middle}\n",
    "\\end{aligned}\n",
    "$$\n",
    "\n",
    "__Подсказка:__ В тесте 2 выборки: студенты с высшим образованием и со средним. Подумайте о том, как эти выборки связаны между собой. Также обратите внимание на альтернативную гипотезу!"
   ]
  },
  {
   "cell_type": "code",
   "execution_count": null,
   "id": "instant-venice",
   "metadata": {},
   "outputs": [],
   "source": [
    "### ╰( ͡° ͜ʖ ͡° )つ▬▬ι═══════  bzzzzzzzzzz\n",
    "# will the code be with you"
   ]
  },
  {
   "cell_type": "markdown",
   "id": "0a70e632",
   "metadata": {},
   "source": [
    "__Почему вы выбрали для проверки гипотезы именно тот критерий, что вы выбрали? Какие у него предпосылки? Все ли они выполняются с данными?__\n",
    "\n",
    "__Ответ:__ ...."
   ]
  },
  {
   "cell_type": "markdown",
   "id": "adequate-lithuania",
   "metadata": {},
   "source": [
    "__б)__ __[5 баллов]__  Правда ли что в среднем студенты пишут экзамен по `reading` так же, как и по `math`? \n",
    "\n",
    "Уровень значимости: $5\\%$\n",
    "\n",
    "$$\n",
    "\\begin{aligned}\n",
    "& H_0: \\mu_{math} = \\mu_{reading} \\\\\n",
    "& H_1: \\mu_{math} \\neq \\mu_{reading}\n",
    "\\end{aligned}\n",
    "$$\n",
    "\n",
    "__Подсказка:__ В тесте 2 выборки: баллы по чтению и баллы по математике. Подумайте о том, как эти выборки связаны между собой. Также обратите внимание на альтернативную гипотезу!"
   ]
  },
  {
   "cell_type": "code",
   "execution_count": null,
   "id": "indoor-objective",
   "metadata": {},
   "outputs": [],
   "source": [
    "### ╰( ͡° ͜ʖ ͡° )つ▬▬ι═══════  bzzzzzzzzzz\n",
    "# will the code be with you"
   ]
  },
  {
   "cell_type": "markdown",
   "id": "838d98aa",
   "metadata": {},
   "source": [
    "__в)__ __[5 баллов]__ Почему вы выбрали для проверки гипотезы именно тот критерий, что вы выбрали? Какие у него предпосылки? Все ли они выполняются с данными?\n",
    "\n",
    "__Ответ:__ ...."
   ]
  },
  {
   "cell_type": "markdown",
   "id": "13ef4c00",
   "metadata": {},
   "source": [
    "### Задача 2: мыши и зеркало (20 баллов)\n",
    "\n",
    "- Справочный материал с кодом: [тетрадка](https://github.com/FUlyankin/matstat-AB/blob/main/week10_nonparam_bootstrap/08_python_non_parametric.ipynb) \n",
    "- [Серия из видео с его объяснением](https://www.youtube.com/watch?v=u22iOcKonz8&list=PLCf-cQCe1FRyCcf47wwBlDObNcz4ud2_L&index=4)\n",
    "\n",
    "\n",
    "$16$ лабораторных мышей были помещены в двухкомнатные клетки, в одной из комнат висело зеркало. С целью установить, есть ли у мышей какие-то предпочтения насчет зеркал, измерялась доля времени, которое каждая мышь проводила в каждой из своих двух клеток.\n",
    "\n",
    "<center>\n",
    "<img src=\"https://ars.els-cdn.com/content/image/1-s2.0-S0168159104000061-gr1.gif\" height=\"300\">\n",
    "</center>\n",
    "<br>\n",
    "\n",
    "В файле `mouses_mirror.txt` лежит информация о том, какую долю времени мышка проводила в клетке с зеркалом. "
   ]
  },
  {
   "cell_type": "code",
   "execution_count": null,
   "id": "ec6726bb",
   "metadata": {},
   "outputs": [],
   "source": [
    "x = pd.read_csv('data/mouses_mirror.txt', header = None)[0].values\n",
    "plt.hist(x, density=True);"
   ]
  },
  {
   "cell_type": "markdown",
   "id": "3f65bd44",
   "metadata": {},
   "source": [
    "__а) [5 баллов]__ Проверьте гипотезу о том, что мышкам безразлично в какой комнате проводить время с помощью критерия знаков. Сформулируйте нулевую гипотезу, перечислите основные особенности этого критерия. Найдите получившееся значение pvalue.\n",
    "\n",
    "__Ответ:__ "
   ]
  },
  {
   "cell_type": "code",
   "execution_count": null,
   "id": "0a0a0806",
   "metadata": {},
   "outputs": [],
   "source": [
    "### ╰( ͡° ͜ʖ ͡° )つ▬▬ι═══════  bzzzzzzzzzz\n",
    "# will the code be with you"
   ]
  },
  {
   "cell_type": "markdown",
   "id": "76bd8db0",
   "metadata": {},
   "source": [
    "__б) [5 баллов]__  Проверьте гипотезу о том, что мышкам безразлично в какой комнате проводить время с помощью теста Вилкоксона. Сформулируйте нулевую гипотезу, перечислите основные особенности этого критерия.  Зайдите получившееся значение pvalue."
   ]
  },
  {
   "cell_type": "code",
   "execution_count": null,
   "id": "59eb3828",
   "metadata": {},
   "outputs": [],
   "source": [
    "### ╰( ͡° ͜ʖ ͡° )つ▬▬ι═══════  bzzzzzzzzzz\n",
    "# will the code be with you"
   ]
  },
  {
   "cell_type": "markdown",
   "id": "0e400e0d",
   "metadata": {},
   "source": [
    "__в) [5 баллов]__  Проверьте гипотезу о том, что мышкам безразлично в какой комнате проводить время с помощью асимптотического $z$-теста. Сформулируйте нулевую гипотезу, перечислите основные особенности этого критерия.  айдите получившееся значение pvalue."
   ]
  },
  {
   "cell_type": "code",
   "execution_count": null,
   "id": "f8f0e798",
   "metadata": {},
   "outputs": [],
   "source": [
    "from statsmodels.stats.weightstats import ztest,zconfint\n",
    "\n",
    "### ╰( ͡° ͜ʖ ͡° )つ▬▬ι═══════  bzzzzzzzzzz\n",
    "# will the code be with you"
   ]
  },
  {
   "cell_type": "markdown",
   "id": "69acf29f",
   "metadata": {},
   "source": [
    "__г) [5 баллов]__  Объясните, почему `pvalue` от теста к тесту ведёт себя именно так. Подробнее про опыт с мышками читайте [в оригинальном исследовании.](https://www.sciencedirect.com/science/article/abs/pii/S0168159104000061)\n",
    "\n",
    "__Ответ:__"
   ]
  },
  {
   "cell_type": "markdown",
   "id": "8caf4413",
   "metadata": {},
   "source": [
    "### Задача 3: парадокс Симпсона (35 баллов)\n",
    "\n",
    "<center>\n",
    "<img src=\"https://github.com/FUlyankin/yet_another_matstat_course/blob/main/hw_2024/images/simpson.jpg?raw=true\" width=\"400\">\n",
    "<center\\>\n",
    "<br>\n",
    "\n"
   ]
  },
  {
   "cell_type": "markdown",
   "id": "106b575e",
   "metadata": {},
   "source": [
    "Помимо решения задач и применения различных функций из библиотек необходимо очень аккуратно работать с данным и понимать, какие действия корректны, а какие нет. Перед вами результаты медицинских исследований: \n",
    "\n",
    "- из $1650$ мужчин, принимавших лекарство, выздоровели $770$, \n",
    "- из $223$ мужчин, не принимавших лекарство, выздоровели $88$,\n",
    "- из $245$ женщин, принимавших лекарство, выздоровели $165$,\n",
    "- из $750$ женщин, не принимавших лекарство женщин, выздоровели $440$.\n",
    "\n",
    "Необходимо найти ответы на следующие вопросы: \n",
    "\n",
    "1. Влияет ли лекарство на мужчин?\n",
    "2. Влияет ли лекарство на женщин? \n",
    "3. Влияет ли лекарство на людей обоих полов в целом?\n",
    "\n",
    "Будем считать, что исследование проводилось методом двойного слепого тестирования. Врач не знал, даёт ли он пациенту плацебо или лекарство, пациент не знал, пьёт ли он плацебо или лекарство. "
   ]
  },
  {
   "cell_type": "markdown",
   "id": "23ecaff0",
   "metadata": {},
   "source": [
    "Запишем данные в табличку. Пусть $A$ — принимавшие лекарство, $\\overline{A}$ — не принимавшие лекарство, $B$ — выздоровевшие, $\\overline{B}$ — не выздоровевшие."
   ]
  },
  {
   "cell_type": "markdown",
   "id": "17dfd35c",
   "metadata": {},
   "source": [
    "<!--<img width=\"60%\" src=\"pics/pic2.png\">-->\n",
    "<table>\n",
    "<tr><td>\n",
    "    \n",
    "|Мужчины| $B$ |  $\\overline{B}$|\n",
    "|--|--|--|\n",
    "|$A$| 770 | 880 |\n",
    "|$\\overline{A}$| 88 | 135 |\n",
    "\n",
    "</td><td>\n",
    "    \n",
    "|Женщины| $B$ |  $\\overline{B}$|\n",
    "|--|--|--|\n",
    "|$A$| 165 | 80 |\n",
    "|$\\overline{A}$| 440 | 310 |\n",
    "\n",
    "</td><td>\n",
    "\n",
    "|Вместе| $B$ |  $\\overline{B}$|\n",
    "|--|--|--|\n",
    "|$A$| 935 | 960 |\n",
    "|$\\overline{A}$| 528 | 445 |\n",
    "\n",
    "</td></tr> </table>"
   ]
  },
  {
   "cell_type": "markdown",
   "id": "3a59b9fb",
   "metadata": {},
   "source": [
    "Для решения задачи воспользуйтесь критерием хи-квадрат Пирсона. Мы его не разбирали на семинарах, однако на курсе матстата он у вас был. Вспомнить как он работает можно [в этом видео.](https://www.youtube.com/watch?v=bws1CB9XZ6E&list=PLCf-cQCe1FRyCcf47wwBlDObNcz4ud2_L&index=10) Посмотреть на код можно [в этом видео.](https://www.youtube.com/watch?v=H3NtBN_o-hk&list=PLCf-cQCe1FRyCcf47wwBlDObNcz4ud2_L&index=12) Тетрадку с кодом можно [найти тут.](https://github.com/FUlyankin/matstat-AB/blob/main/week10_nonparam_bootstrap/04_05_python_kolmogorov_pearson.ipynb)\n",
    "\n",
    "Тест поможет нам понять, есть ли у лекарства какой-то эффект. Применить тест в python помогает функция `chi2_contingency` из пакета `scipy.stats`. Используйте её с параметром `correction=False`."
   ]
  },
  {
   "cell_type": "markdown",
   "id": "122026a5",
   "metadata": {},
   "source": [
    "__а)__ __[5 баллов]__ Давайте попробуем найти ответ на вопрос, есть ли эффект от лекарства для мужчин? "
   ]
  },
  {
   "cell_type": "markdown",
   "id": "70e0267e",
   "metadata": {},
   "source": [
    "Давайте предварительно посчитаем долю выздровевших мужчин, которые принимали лекарство и долю выздровевших мужчин, которые не принимали лекартсво. Сравните эти доли."
   ]
  },
  {
   "cell_type": "code",
   "execution_count": null,
   "id": "68fa518b",
   "metadata": {},
   "outputs": [],
   "source": [
    "### ╰( ͡° ͜ʖ ͡° )つ▬▬ι═══════  bzzzzzzzzzz\n",
    "# will the code be with you"
   ]
  },
  {
   "cell_type": "markdown",
   "id": "edf20707",
   "metadata": {},
   "source": [
    "Создадим матрицу размера $2 \\times 2.$ Внесём в неё частоты, полученные для мужчин."
   ]
  },
  {
   "cell_type": "code",
   "execution_count": null,
   "id": "2119e07c",
   "metadata": {},
   "outputs": [],
   "source": [
    "men = np.array([[770,880],[88,135]])"
   ]
  },
  {
   "cell_type": "markdown",
   "id": "18d253fb",
   "metadata": {},
   "source": [
    "Примените тест с параметром `correction=False` и сделайте выводы на уровне значимости $5\\%.$"
   ]
  },
  {
   "cell_type": "code",
   "execution_count": null,
   "id": "6b4bacfd",
   "metadata": {},
   "outputs": [],
   "source": [
    "### ╰( ͡° ͜ʖ ͡° )つ▬▬ι═══════  bzzzzzzzzzz\n",
    "# will the code be with you"
   ]
  },
  {
   "cell_type": "markdown",
   "id": "e6998b09",
   "metadata": {},
   "source": [
    "__б)__ __[10 баллов]__ Сделайте всё то же самое, но руками, без помощи библиотеки."
   ]
  },
  {
   "cell_type": "markdown",
   "id": "f325db07",
   "metadata": {},
   "source": [
    "Для того, чтобы расчитать тестовую стаститику хи-квадрат, нам необходимо найти матрицу ожидаемых частот, такую же, которая у нас получилась в предыдущем пункте в output-е функции `chi2_contingency`. \n",
    "\n",
    "Используя матрицу из предыдущего пункта, посчитайте общее количество испытуемых мужчин."
   ]
  },
  {
   "cell_type": "code",
   "execution_count": null,
   "id": "6322d435",
   "metadata": {},
   "outputs": [],
   "source": [
    "### ╰( ͡° ͜ʖ ͡° )つ▬▬ι═══════  bzzzzzzzzzz\n",
    "# will the code be with you"
   ]
  },
  {
   "cell_type": "markdown",
   "id": "47d6015e",
   "metadata": {},
   "source": [
    "Посчитайте отдельно количество испытуемых мужчин, которые принимали лекарство, и которые не принимали его $(n1, n2)$"
   ]
  },
  {
   "cell_type": "code",
   "execution_count": null,
   "id": "55d487e5",
   "metadata": {},
   "outputs": [],
   "source": [
    "### ╰( ͡° ͜ʖ ͡° )つ▬▬ι═══════  bzzzzzzzzzz\n",
    "# will the code be with you"
   ]
  },
  {
   "cell_type": "markdown",
   "id": "8dcf393b",
   "metadata": {},
   "source": [
    "Найдите вероятности выздороветь или нет (независимо от группы по приему/не приему лекарства), то есть вероятность попасть в $B$ и $\\overline{B}$ для мужчин."
   ]
  },
  {
   "cell_type": "code",
   "execution_count": null,
   "id": "c278911c",
   "metadata": {},
   "outputs": [],
   "source": [
    "### ╰( ͡° ͜ʖ ͡° )つ▬▬ι═══════  bzzzzzzzzzz\n",
    "# will the code be with you"
   ]
  },
  {
   "cell_type": "markdown",
   "id": "1386a83c",
   "metadata": {},
   "source": [
    "Расчитайте ожидаемые (теоритические) значения для каждой ячейки матрицы. Для этого перемножьте вероятности из предыдущего пункта со значениями $n_1$ и $n_2$. Полученную матрицу можно сравнить с выводом библиотеки`scipy.stats`, она должна быть идентичной."
   ]
  },
  {
   "cell_type": "code",
   "execution_count": null,
   "id": "657d33fc",
   "metadata": {},
   "outputs": [],
   "source": [
    "### ╰( ͡° ͜ʖ ͡° )つ▬▬ι═══════  bzzzzzzzzzz\n",
    "# will the code be with you"
   ]
  },
  {
   "cell_type": "markdown",
   "id": "bacaa057",
   "metadata": {},
   "source": [
    "Расчитайте наблюдаемую статистику и найдите `p_value` с помощью `sts.chi2.cdf` с параметром `df=1`.\n",
    "\n",
    "\\begin{equation*} \\chi^2_d = \\sum {\\frac {(O-E)^2}{E}},\\end{equation*}\n",
    "\n",
    "где\n",
    "\n",
    "- $E$ - наши ожидаемые частоты(матрица из предыдущего пукта),\n",
    "- $O$ - наблюдаемы частоты(первоначальная матрица)."
   ]
  },
  {
   "cell_type": "code",
   "execution_count": null,
   "id": "150a6ab9",
   "metadata": {},
   "outputs": [],
   "source": [
    "### ╰( ͡° ͜ʖ ͡° )つ▬▬ι═══════  bzzzzzzzzzz\n",
    "# will the code be with you"
   ]
  },
  {
   "cell_type": "markdown",
   "id": "ca9e60ca",
   "metadata": {},
   "source": [
    "__в)__ __[10 баллов]__  Ответьте на вопрос: есть ли эффект от лекарства для женщин? (повторите процедуру пункта а) \n",
    "\n",
    "Как и в предыдущий раз, для начала, посчитайте долю выздровевших женщин, которые принимали лекарство и долю выздровевших женщин, которые не принимали лекартсво. Сравните эти доли."
   ]
  },
  {
   "cell_type": "code",
   "execution_count": null,
   "id": "2966cd43",
   "metadata": {},
   "outputs": [],
   "source": [
    "### ╰( ͡° ͜ʖ ͡° )つ▬▬ι═══════  bzzzzzzzzzz\n",
    "# will the code be with you"
   ]
  },
  {
   "cell_type": "markdown",
   "id": "28f8411d",
   "metadata": {},
   "source": [
    "Создайте матрицу с данными из таблицы по женщинам, примените тест с параметром `correction=False` и сделайте выводы на уровене значимости $5\\%$."
   ]
  },
  {
   "cell_type": "code",
   "execution_count": null,
   "id": "d66e85fc",
   "metadata": {},
   "outputs": [],
   "source": [
    "### ╰( ͡° ͜ʖ ͡° )つ▬▬ι═══════  bzzzzzzzzzz\n",
    "# will the code be with you"
   ]
  },
  {
   "cell_type": "markdown",
   "id": "90f5481f",
   "metadata": {},
   "source": [
    "__г)__ __[5 баллов]__  Ответьте на вопрос: есть ли эффект от лекарства для объединенной группы?"
   ]
  },
  {
   "cell_type": "code",
   "execution_count": null,
   "id": "76847c6c",
   "metadata": {},
   "outputs": [],
   "source": [
    "### ╰( ͡° ͜ʖ ͡° )つ▬▬ι═══════  bzzzzzzzzzz\n",
    "# will the code be with you"
   ]
  },
  {
   "cell_type": "markdown",
   "id": "dbc56cb1",
   "metadata": {},
   "source": [
    "__д)__ __[5 баллов]__  Соотносится ли это с результатами по группам мужчин и женщин, взятых отдельно?"
   ]
  },
  {
   "cell_type": "code",
   "execution_count": null,
   "id": "a1c43153",
   "metadata": {},
   "outputs": [],
   "source": [
    "### ╰( ͡° ͜ʖ ͡° )つ▬▬ι═══════  bzzzzzzzzzz\n",
    "# will the code be with you"
   ]
  },
  {
   "cell_type": "markdown",
   "id": "8248f6a5",
   "metadata": {},
   "source": [
    "## Что произошло?"
   ]
  },
  {
   "cell_type": "markdown",
   "id": "fba0880d",
   "metadata": {},
   "source": [
    "Если вы все сделали правильно, скорее всего у вас получились противоречивые значимые результаты. Давайте разберемся почему это так.\n",
    "\n",
    "Может произойти такая ситуация, что новое лекарство может оказаться эффективным в каждом из отдельных исследований, на каждой отдельной группе, но объединение результатов укажет на то, что это лекарство либо бесполезно, либо вредно. [Это называется __парадокс Симпсона.__](https://ru.wikipedia.org/wiki/Парадокс_Симпсона) Он довольно часто встречается на практике в разном виде. \n",
    "\n",
    "Проблема здесь в том, что объединять эти выборки просто слив данные вместе — нельзя. Контрольные группы людей, не принимавших лекарство, занимают разный объем от выборок — примерно 12% в случае мужчин и 75% в случае женщин."
   ]
  },
  {
   "cell_type": "markdown",
   "id": "1fa9aeae",
   "metadata": {},
   "source": [
    "### Задача 4: дискриминация (20 баллов)\n",
    "\n",
    "- [Тетрадка со справочным кодом](https://github.com/FUlyankin/matstat-AB/blob/main/week10_nonparam_bootstrap/10_python_bootstrap.ipynb)\n",
    "- [Видео с объяснением](https://www.youtube.com/watch?v=oRCzEPDMPBQ&list=PLCf-cQCe1FRyCcf47wwBlDObNcz4ud2_L&index=7)\n",
    "\n",
    "Компания Verizon - основная региональная телекоммуникационная компания в западной части США. Она отвечает за поддержание наземной телефонной связи (Incumbent Local Exchange Carrier, ILEC). Кроме того, она продаёт услуги междугородней связи, как и ряд её конкурентов, получивших название (Competing Local Exchange Carriers, CLEC).\n",
    "\n",
    "Когда что-то шло не так, Verizon отвечала за ремонт своего оборудования и оборудования конкурентов. Она должна была делать ремонт оборудования конкурентов также быстро, как и ремонт своего оборудования. За этим следила комиссия по коммунальным услугам. \n",
    "\n",
    "Периодически возникали подозрения, что Verizon ремонтирует чужое оборудование медленнее. Тим Хестерберг, автор [отличной статьи про бустрап,](https://arxiv.org/pdf/1411.5279.pdf) консультировал компанию Verizon во время слушаний о нарушениях. Комиссия сравнивала время ремонта для Verizon и других компаний. Чтобы определить есть ли нарушения, в каждом случае, она проверяла гипотезу о равенстве средних на уровне значимости $1\\%$. \n",
    "\n",
    "Если более $1\\%$ тестов оказывались значимыми, компания должна была бы заплатить высокий штраф. Гипотезы проверялись с помощью $t$-статистик. После консультации Тима, Verizon предложила использовать тесты, робастные к выбросам и никак не завязанные на нормальность исходных распределений.\n",
    "\n",
    "Мы в этом задании попробуем ответить на тот же вопрос, связанный с дискриминацией, но с помощью бустрапа. Для этого мы построим доверительный интервал для разности медиан и посмотрим входит ли в него ноль. Будем использовать уровень значимости в $1\\%$. Доверительный интервал будем строить для одной CLEC-комиании и для Verizon."
   ]
  },
  {
   "cell_type": "code",
   "execution_count": null,
   "id": "46d2f7f5",
   "metadata": {},
   "outputs": [],
   "source": [
    "df = pd.read_csv('data/verizon.txt', sep='\\t')\n",
    "print(df.shape)\n",
    "\n",
    "# ILEC - Verizion\n",
    "# CLEC - внешние клиенты \n",
    "df.head()"
   ]
  },
  {
   "cell_type": "markdown",
   "id": "ca0a866d",
   "metadata": {},
   "source": [
    "Посмотрим на то, как распределено время ремонта для разных компаний, а также на число наблюдений, которым мы располагаем. "
   ]
  },
  {
   "cell_type": "code",
   "execution_count": null,
   "id": "5f94c524",
   "metadata": {},
   "outputs": [],
   "source": [
    "df.groupby('Group')['Time'].agg(['count', 'mean', 'median', 'std'])"
   ]
  },
  {
   "cell_type": "markdown",
   "id": "514d7b87",
   "metadata": {},
   "source": [
    "В данных есть существенный перекос в количестве наблюдений. Среднее время ремонта CLEC почти вдвое больше, чем для ILEC. Вопрос в том, является ли это свидетельством дискриминации. Если посмотреть на распределение, можно заметить, что распределение времени на ремонт CLEC имеет как минимум один выброс. Тем не менее, если смотреть на медианы, которые робастны (нечувствительны) к выбросам, ситуация, связанная со временем оказывается ещё более драмматичной. "
   ]
  },
  {
   "cell_type": "code",
   "execution_count": null,
   "id": "b4847053",
   "metadata": {},
   "outputs": [],
   "source": [
    "plt.figure(figsize=(12,5))\n",
    "df[df.Group == 'ILEC'].Time.hist(bins=15, label='Verizion', alpha=0.4, density=True)\n",
    "df[df.Group == 'CLEC'].Time.hist(bins=15, label='CLEC', alpha=0.4, density=True)\n",
    "plt.legend();"
   ]
  },
  {
   "cell_type": "markdown",
   "id": "92903eaf",
   "metadata": {},
   "source": [
    "__а) [5 баллов]__ Постройте для разницы $med_{CLEC} - med_{Verizion}$ доверительный интервал Эфрона (перцентильный доверительный интервал). "
   ]
  },
  {
   "cell_type": "code",
   "execution_count": null,
   "id": "f5878584",
   "metadata": {},
   "outputs": [],
   "source": [
    "### ╰( ͡° ͜ʖ ͡° )つ▬▬ι═══════  bzzzzzzzzzz\n",
    "# will the code be with you\n",
    "\n",
    "B_sample=10**4\n",
    "left = ...\n",
    "right = ...\n",
    "\n",
    "# your code here\n"
   ]
  },
  {
   "cell_type": "markdown",
   "id": "5e153866",
   "metadata": {},
   "source": [
    "В целом, перцентильный интервал выглядит самым простым вариантом оценивания, однако в реальности он даёт весьма плохие результаты, так как сильно зависит от того насколько хорошо изначальная выборка аппроксимирует истинное распределение случайной величины. В данной ситуации из-за того, что исходное распределение асимметрично, мы получаем смещение."
   ]
  },
  {
   "cell_type": "markdown",
   "id": "15d87025",
   "metadata": {},
   "source": [
    "__б) [5 баллов]__ Постройте для разницы $med_{CLEC} - med_{Verizion}$ доверительный интервал Холла (обратный перцентильный доверительный интервал). "
   ]
  },
  {
   "cell_type": "code",
   "execution_count": null,
   "id": "7ff3fb6b",
   "metadata": {},
   "outputs": [],
   "source": [
    "### ╰( ͡° ͜ʖ ͡° )つ▬▬ι═══════  bzzzzzzzzzz\n",
    "# will the code be with you\n",
    "\n",
    "left = ...\n",
    "right = ...\n",
    "\n",
    "# your code here\n"
   ]
  },
  {
   "cell_type": "markdown",
   "id": "8ee830b6",
   "metadata": {},
   "source": [
    "Холл в своей работе называл перцентильный интервал \"the wrong pivot, backwards\". Обратный перцентильный интервал для асимметричных распределений делает то же самое, но в обратном направлении."
   ]
  },
  {
   "cell_type": "markdown",
   "id": "943f321e",
   "metadata": {},
   "source": [
    "__в) [10 баллов]__ Постройте $t-$ перцентильный доверительный интервал:\n",
    "\n",
    "1. Найдите точечную оценку неизвестного параметра (разность медиан) и точечную оценку стандартного отклонения\n",
    "2. Сгенерируйте $10^5$ boostrap-выборок\n",
    "3. Рассчитайте по каждой выбооке выборочную разницу медиан \n",
    "4. Рассчитайте по каждой выборке стандартную ошибку \n",
    "5. Найдите по каждой выборке $$t^* = \\frac{\\hat \\theta^{*} - \\hat{\\theta}}{S^{*}}$$\n",
    "6. Найдите для $t^{*}$ квантили уровня $0.05$ и $0.95$\n",
    "7. Постройте доверительный интервал для разности медиан\n",
    "\n",
    "В качестве $S^{*}$ исполизуйте сумму стандартных отклонений, посчитанных по выборкам $x$ и $y$. Конечно же, мы используем при таком подходе неправильное стандартное отклонение. При этом мы надеемся, что бутсрэп сам поправит нашу ошибку. При таком подходе главное, чтобы знаменатель сходился по вероятности к какому-нибудь пределу."
   ]
  },
  {
   "cell_type": "code",
   "execution_count": null,
   "id": "4ac1f676",
   "metadata": {},
   "outputs": [],
   "source": [
    "### ╰( ͡° ͜ʖ ͡° )つ▬▬ι═══════  bzzzzzzzzzz\n",
    "# will the code be with you\n",
    "\n",
    "theta_hat = ...\n",
    "std_hat = ...\n",
    "\n",
    "left = ...\n",
    "right = ...\n",
    "\n",
    "alpha = 0.01\n",
    "# your code here\n"
   ]
  },
  {
   "cell_type": "markdown",
   "id": "efff867f",
   "metadata": {},
   "source": [
    "У $t$-bootstrap есть одно интересное свойство: он \"уважает\" асимметрию распределений при расчёте доверительных интервалов. "
   ]
  },
  {
   "cell_type": "markdown",
   "id": "c355a977",
   "metadata": {},
   "source": [
    "### Задача 5: однородная игра (10 баллов)\n",
    "\n",
    "- [Тетрадка со справочным кодом](https://github.com/FUlyankin/matstat-AB/blob/main/week10_nonparam_bootstrap/04_05_python_kolmogorov_pearson.ipynb)\n",
    "- [Видео с объяснением](https://www.youtube.com/watch?v=jQfn9lShYVc&list=PLCf-cQCe1FRyCcf47wwBlDObNcz4ud2_L&index=11)"
   ]
  },
  {
   "cell_type": "markdown",
   "id": "b333468c",
   "metadata": {},
   "source": [
    "Киллер - это весёлая лагерная игра. Краткие правила игры:\n",
    "\n",
    "- Игроки пишут свои имена на карточках и кладут их в шляпу\n",
    "- Игроки рандомно вытаскивают карточки из шляпы \n",
    "- Полученное имя - имя жертвы\n",
    "- Каждый игрок одновременно и убийца и жертва\n",
    "- Чтобы убить другого игрока, надо оказаться с ним наедине и застрелить из пальца\n",
    "- Жертва убитого становится новой жертвой игрока\n",
    "- Побеждает тот, кто совершит наибольшее число убийств\n",
    "\n",
    "На экономическом факультете было два раунда игры в киллера. Все убийства регистрировались в гугл-форме. В табличках `killer_time1.csv` и `killer_time2.csv` лежит время в часах, которое проходило между убийствами."
   ]
  },
  {
   "cell_type": "code",
   "execution_count": null,
   "id": "39868e29",
   "metadata": {},
   "outputs": [],
   "source": [
    "killer1 = pd.read_csv(\"killer_time1.csv\").hours_between_kill.values\n",
    "killer2 = pd.read_csv(\"killer_time2.csv\").hours_between_kill.values"
   ]
  },
  {
   "cell_type": "code",
   "execution_count": null,
   "id": "d2b81ec5",
   "metadata": {},
   "outputs": [],
   "source": [
    "plt.hist(killer1, bins=20);"
   ]
  },
  {
   "cell_type": "code",
   "execution_count": null,
   "id": "b99f0e3d",
   "metadata": {},
   "outputs": [],
   "source": [
    "plt.hist(killer2, bins=20);"
   ]
  },
  {
   "cell_type": "markdown",
   "id": "7cfa1b95",
   "metadata": {},
   "source": [
    "__а) [5 баллов]__ Распределение выглядит, как экспоненциальное. Более того, по гистограммам возникает ощущение, что это одинаковое распределение. С помощью теста Колмогорова-Смирнова проверьте гипотезу о том, что обе выборки пришли из одного и того же распределения."
   ]
  },
  {
   "cell_type": "code",
   "execution_count": null,
   "id": "087e9448",
   "metadata": {},
   "outputs": [],
   "source": [
    "### ╰( ͡° ͜ʖ ͡° )つ▬▬ι═══════  bzzzzzzzzzz\n",
    "# will the code be with you"
   ]
  },
  {
   "cell_type": "markdown",
   "id": "851f4334",
   "metadata": {},
   "source": [
    "__б) [5 баллов]__ С помощью теста Колмогорова проверьте гипотезу о том, что время для первой игры имеет экспоненциальное распределение с параметром $\\lambda = 0.026$, $p$-значение, полученное при проверке запишите в переменную `pvalue2`. "
   ]
  },
  {
   "cell_type": "code",
   "execution_count": null,
   "id": "821ad3fa",
   "metadata": {},
   "outputs": [],
   "source": [
    "### ╰( ͡° ͜ʖ ͡° )つ▬▬ι═══════  bzzzzzzzzzz\n",
    "# will the code be with you"
   ]
  },
  {
   "cell_type": "markdown",
   "id": "4ceda063",
   "metadata": {},
   "source": [
    "### Задача 6: ломаем тест Манна-Уитни (20 баллов)\n",
    "\n",
    "__а) [10 баллов]__  \n",
    "\n",
    "Придумайте пример, на котором тест Манна-Уитни не будет работать. Проиллюстрируйте то, что он не работает с помощью кода. Предложите для вашей ситуации способ исправить тест.\n",
    "\n",
    "__Hint:__ Главная предпосылка теста заключается в том, что распределение не меняется, но у него происходит сдвиг. Воспользуйтесь этим. \n",
    "\n",
    "\\begin{equation*}\n",
    "    \\begin{aligned}\n",
    "    & H_0: F_X(x) = F_Y(y) \\\\\n",
    "    & H_A: F_X(x) = F_Y(y + m), m \\ne 0\n",
    "    \\end{aligned}\n",
    "\\end{equation*}\n",
    "\n",
    "\n",
    "<center>\n",
    "<img src=\"https://github.com/FUlyankin/yet_another_matstat_course/blob/main/hw_2024/images/mw.png?raw=true\" width=\"300\">\n",
    "</center>"
   ]
  },
  {
   "cell_type": "markdown",
   "id": "5475d3e2",
   "metadata": {},
   "source": [
    "В этом пункте вы вольны иллюстрировать работу теста, как вам хочется. Как минимум, вы должны найти для своего процесса генерации данных ошибку 1 и ошибку 2 рода с помощью симуляций. Если у вас есть желание нарисовать для АА-теста и AB-теста [рок-кривые,](https://www.youtube.com/watch?v=aZI3D8qEHHo) вы также можете это сделать. \n",
    "\n",
    "Код для рок-кривых в случае АА-теста есть в домашнем задании продвинутой группы."
   ]
  },
  {
   "cell_type": "code",
   "execution_count": null,
   "id": "af977c7b",
   "metadata": {},
   "outputs": [],
   "source": [
    "### ╰( ͡° ͜ʖ ͡° )つ▬▬ι═══════  bzzzzzzzzzz\n",
    "# will the code be with you\n",
    "\n",
    "# your code here"
   ]
  },
  {
   "cell_type": "markdown",
   "id": "2201270e",
   "metadata": {},
   "source": [
    "__б) [5 баллов]__ Для того же самого процесса порождения данных попробуйте применить тест Колмогорова-Смирнова. С помощью симуляций оцените для него ошибку 1 рода и 2 рода. При желании, нарисуйте рок-кривые."
   ]
  },
  {
   "cell_type": "code",
   "execution_count": null,
   "id": "3863426a",
   "metadata": {},
   "outputs": [],
   "source": [
    "### ╰( ͡° ͜ʖ ͡° )つ▬▬ι═══════  bzzzzzzzzzz\n",
    "# will the code be with you\n",
    "\n",
    "# your code here"
   ]
  },
  {
   "cell_type": "markdown",
   "id": "0d175c66",
   "metadata": {},
   "source": [
    "__в) [5 баллов]__   Опишите словами сеттинг своего эксперимента и его результаты.  Разваливается ли тест? Почему? Какие минусы у каждого из тестов (обратите внимание на MDE)?\n",
    "\n",
    "__Ответ:__"
   ]
  }
 ],
 "metadata": {
  "kernelspec": {
   "display_name": "Python 3",
   "language": "python",
   "name": "python3"
  },
  "language_info": {
   "codemirror_mode": {
    "name": "ipython",
    "version": 3
   },
   "file_extension": ".py",
   "mimetype": "text/x-python",
   "name": "python",
   "nbconvert_exporter": "python",
   "pygments_lexer": "ipython3",
   "version": "3.8.8"
  }
 },
 "nbformat": 4,
 "nbformat_minor": 5
}
